{
 "cells": [
  {
   "attachments": {},
   "cell_type": "markdown",
   "id": "7e252fdf",
   "metadata": {},
   "source": [
    "import some libraries \n"
   ]
  },
  {
   "cell_type": "code",
   "execution_count": 1,
   "id": "b43fa89d",
   "metadata": {},
   "outputs": [],
   "source": [
    "import numpy as np\n",
    "import time\n",
    "import cv2 \n",
    "import glob\n",
    "import os\n",
    "import matplotlib.pyplot as plt"
   ]
  },
  {
   "cell_type": "markdown",
   "id": "61bddaaa",
   "metadata": {},
   "source": [
    " Load yolo weights and cfg\n",
    " "
   ]
  },
  {
   "cell_type": "code",
   "execution_count": 2,
   "id": "1e4f14e2",
   "metadata": {},
   "outputs": [
    {
     "name": "stdout",
     "output_type": "stream",
     "text": [
      "loaded!\n"
     ]
    }
   ],
   "source": [
    "weights_path = os.path.join(\"D:/2nd term/Digital image processing/Project\",\"yolov3.weights\")\n",
    "config_path = os.path.join(\"D:/2nd term/Digital image processing/Project\",\"yolov3.cfg\")\n",
    "print(\"loaded!\")\n",
    "\n"
   ]
  },
  {
   "cell_type": "markdown",
   "id": "65172124",
   "metadata": {},
   "source": [
    "Load Neural net in cv2\n"
   ]
  },
  {
   "cell_type": "code",
   "execution_count": 3,
   "id": "09a5eb8b",
   "metadata": {},
   "outputs": [],
   "source": [
    "\n",
    "net = cv2.dnn.readNetFromDarknet(config_path,weights_path)"
   ]
  },
  {
   "cell_type": "markdown",
   "id": "5eee5fbf",
   "metadata": {},
   "source": [
    "Get Layers names\n"
   ]
  },
  {
   "cell_type": "code",
   "execution_count": 4,
   "id": "87b6f928",
   "metadata": {},
   "outputs": [
    {
     "data": {
      "text/plain": [
       "('conv_0',\n",
       " 'bn_0',\n",
       " 'leaky_1',\n",
       " 'conv_1',\n",
       " 'bn_1',\n",
       " 'leaky_2',\n",
       " 'conv_2',\n",
       " 'bn_2',\n",
       " 'leaky_3',\n",
       " 'conv_3',\n",
       " 'bn_3',\n",
       " 'leaky_4',\n",
       " 'shortcut_4',\n",
       " 'conv_5',\n",
       " 'bn_5',\n",
       " 'leaky_6',\n",
       " 'conv_6',\n",
       " 'bn_6',\n",
       " 'leaky_7',\n",
       " 'conv_7',\n",
       " 'bn_7',\n",
       " 'leaky_8',\n",
       " 'shortcut_8',\n",
       " 'conv_9',\n",
       " 'bn_9',\n",
       " 'leaky_10',\n",
       " 'conv_10',\n",
       " 'bn_10',\n",
       " 'leaky_11',\n",
       " 'shortcut_11',\n",
       " 'conv_12',\n",
       " 'bn_12',\n",
       " 'leaky_13',\n",
       " 'conv_13',\n",
       " 'bn_13',\n",
       " 'leaky_14',\n",
       " 'conv_14',\n",
       " 'bn_14',\n",
       " 'leaky_15',\n",
       " 'shortcut_15',\n",
       " 'conv_16',\n",
       " 'bn_16',\n",
       " 'leaky_17',\n",
       " 'conv_17',\n",
       " 'bn_17',\n",
       " 'leaky_18',\n",
       " 'shortcut_18',\n",
       " 'conv_19',\n",
       " 'bn_19',\n",
       " 'leaky_20',\n",
       " 'conv_20',\n",
       " 'bn_20',\n",
       " 'leaky_21',\n",
       " 'shortcut_21',\n",
       " 'conv_22',\n",
       " 'bn_22',\n",
       " 'leaky_23',\n",
       " 'conv_23',\n",
       " 'bn_23',\n",
       " 'leaky_24',\n",
       " 'shortcut_24',\n",
       " 'conv_25',\n",
       " 'bn_25',\n",
       " 'leaky_26',\n",
       " 'conv_26',\n",
       " 'bn_26',\n",
       " 'leaky_27',\n",
       " 'shortcut_27',\n",
       " 'conv_28',\n",
       " 'bn_28',\n",
       " 'leaky_29',\n",
       " 'conv_29',\n",
       " 'bn_29',\n",
       " 'leaky_30',\n",
       " 'shortcut_30',\n",
       " 'conv_31',\n",
       " 'bn_31',\n",
       " 'leaky_32',\n",
       " 'conv_32',\n",
       " 'bn_32',\n",
       " 'leaky_33',\n",
       " 'shortcut_33',\n",
       " 'conv_34',\n",
       " 'bn_34',\n",
       " 'leaky_35',\n",
       " 'conv_35',\n",
       " 'bn_35',\n",
       " 'leaky_36',\n",
       " 'shortcut_36',\n",
       " 'conv_37',\n",
       " 'bn_37',\n",
       " 'leaky_38',\n",
       " 'conv_38',\n",
       " 'bn_38',\n",
       " 'leaky_39',\n",
       " 'conv_39',\n",
       " 'bn_39',\n",
       " 'leaky_40',\n",
       " 'shortcut_40',\n",
       " 'conv_41',\n",
       " 'bn_41',\n",
       " 'leaky_42',\n",
       " 'conv_42',\n",
       " 'bn_42',\n",
       " 'leaky_43',\n",
       " 'shortcut_43',\n",
       " 'conv_44',\n",
       " 'bn_44',\n",
       " 'leaky_45',\n",
       " 'conv_45',\n",
       " 'bn_45',\n",
       " 'leaky_46',\n",
       " 'shortcut_46',\n",
       " 'conv_47',\n",
       " 'bn_47',\n",
       " 'leaky_48',\n",
       " 'conv_48',\n",
       " 'bn_48',\n",
       " 'leaky_49',\n",
       " 'shortcut_49',\n",
       " 'conv_50',\n",
       " 'bn_50',\n",
       " 'leaky_51',\n",
       " 'conv_51',\n",
       " 'bn_51',\n",
       " 'leaky_52',\n",
       " 'shortcut_52',\n",
       " 'conv_53',\n",
       " 'bn_53',\n",
       " 'leaky_54',\n",
       " 'conv_54',\n",
       " 'bn_54',\n",
       " 'leaky_55',\n",
       " 'shortcut_55',\n",
       " 'conv_56',\n",
       " 'bn_56',\n",
       " 'leaky_57',\n",
       " 'conv_57',\n",
       " 'bn_57',\n",
       " 'leaky_58',\n",
       " 'shortcut_58',\n",
       " 'conv_59',\n",
       " 'bn_59',\n",
       " 'leaky_60',\n",
       " 'conv_60',\n",
       " 'bn_60',\n",
       " 'leaky_61',\n",
       " 'shortcut_61',\n",
       " 'conv_62',\n",
       " 'bn_62',\n",
       " 'leaky_63',\n",
       " 'conv_63',\n",
       " 'bn_63',\n",
       " 'leaky_64',\n",
       " 'conv_64',\n",
       " 'bn_64',\n",
       " 'leaky_65',\n",
       " 'shortcut_65',\n",
       " 'conv_66',\n",
       " 'bn_66',\n",
       " 'leaky_67',\n",
       " 'conv_67',\n",
       " 'bn_67',\n",
       " 'leaky_68',\n",
       " 'shortcut_68',\n",
       " 'conv_69',\n",
       " 'bn_69',\n",
       " 'leaky_70',\n",
       " 'conv_70',\n",
       " 'bn_70',\n",
       " 'leaky_71',\n",
       " 'shortcut_71',\n",
       " 'conv_72',\n",
       " 'bn_72',\n",
       " 'leaky_73',\n",
       " 'conv_73',\n",
       " 'bn_73',\n",
       " 'leaky_74',\n",
       " 'shortcut_74',\n",
       " 'conv_75',\n",
       " 'bn_75',\n",
       " 'leaky_76',\n",
       " 'conv_76',\n",
       " 'bn_76',\n",
       " 'leaky_77',\n",
       " 'conv_77',\n",
       " 'bn_77',\n",
       " 'leaky_78',\n",
       " 'conv_78',\n",
       " 'bn_78',\n",
       " 'leaky_79',\n",
       " 'conv_79',\n",
       " 'bn_79',\n",
       " 'leaky_80',\n",
       " 'conv_80',\n",
       " 'bn_80',\n",
       " 'leaky_81',\n",
       " 'conv_81',\n",
       " 'permute_82',\n",
       " 'yolo_82',\n",
       " 'identity_83',\n",
       " 'conv_84',\n",
       " 'bn_84',\n",
       " 'leaky_85',\n",
       " 'upsample_85',\n",
       " 'concat_86',\n",
       " 'conv_87',\n",
       " 'bn_87',\n",
       " 'leaky_88',\n",
       " 'conv_88',\n",
       " 'bn_88',\n",
       " 'leaky_89',\n",
       " 'conv_89',\n",
       " 'bn_89',\n",
       " 'leaky_90',\n",
       " 'conv_90',\n",
       " 'bn_90',\n",
       " 'leaky_91',\n",
       " 'conv_91',\n",
       " 'bn_91',\n",
       " 'leaky_92',\n",
       " 'conv_92',\n",
       " 'bn_92',\n",
       " 'leaky_93',\n",
       " 'conv_93',\n",
       " 'permute_94',\n",
       " 'yolo_94',\n",
       " 'identity_95',\n",
       " 'conv_96',\n",
       " 'bn_96',\n",
       " 'leaky_97',\n",
       " 'upsample_97',\n",
       " 'concat_98',\n",
       " 'conv_99',\n",
       " 'bn_99',\n",
       " 'leaky_100',\n",
       " 'conv_100',\n",
       " 'bn_100',\n",
       " 'leaky_101',\n",
       " 'conv_101',\n",
       " 'bn_101',\n",
       " 'leaky_102',\n",
       " 'conv_102',\n",
       " 'bn_102',\n",
       " 'leaky_103',\n",
       " 'conv_103',\n",
       " 'bn_103',\n",
       " 'leaky_104',\n",
       " 'conv_104',\n",
       " 'bn_104',\n",
       " 'leaky_105',\n",
       " 'conv_105',\n",
       " 'permute_106',\n",
       " 'yolo_106')"
      ]
     },
     "execution_count": 4,
     "metadata": {},
     "output_type": "execute_result"
    }
   ],
   "source": [
    "\n",
    "names = net.getLayerNames() \n",
    "names\n"
   ]
  },
  {
   "attachments": {},
   "cell_type": "markdown",
   "id": "d2d76df4",
   "metadata": {},
   "source": [
    "load the test image"
   ]
  },
  {
   "cell_type": "code",
   "execution_count": 5,
   "id": "5631c037",
   "metadata": {},
   "outputs": [
    {
     "data": {
      "text/plain": [
       "<matplotlib.image.AxesImage at 0x20d0d737ac0>"
      ]
     },
     "execution_count": 5,
     "metadata": {},
     "output_type": "execute_result"
    },
    {
     "data": {
      "image/png": "[encoded data removed]",
      "text/plain": [
       "<Figure size 432x288 with 1 Axes>"
      ]
     },
     "metadata": {
      "needs_background": "light"
     },
     "output_type": "display_data"
    }
   ],
   "source": [
    "image_path = os.path.join(\"D:/2nd term/Digital image processing/Project\",\"tst_img.png\")\n",
    "img = cv2.imread(image_path)\n",
    "img_conv = cv2.cvtColor(img, cv2.COLOR_BGR2RGB)\n",
    "plt.imshow(img_conv)"
   ]
  },
  {
   "cell_type": "code",
   "execution_count": 6,
   "id": "79b2b401",
   "metadata": {},
   "outputs": [],
   "source": [
    "(H, W) = img.shape[ :2]\n",
    "layers_names = [names[i - 1] for i in net.getUnconnectedOutLayers()]"
   ]
  },
  {
   "cell_type": "code",
   "execution_count": 7,
   "id": "6936ba1d",
   "metadata": {},
   "outputs": [
    {
     "data": {
      "text/plain": [
       "['yolo_82', 'yolo_94', 'yolo_106']"
      ]
     },
     "execution_count": 7,
     "metadata": {},
     "output_type": "execute_result"
    }
   ],
   "source": [
    "layers_names"
   ]
  },
  {
   "cell_type": "markdown",
   "id": "4ccfbee1",
   "metadata": {},
   "source": [
    "Run the inferences on the test image"
   ]
  },
  {
   "cell_type": "code",
   "execution_count": 8,
   "id": "20f89014",
   "metadata": {},
   "outputs": [
    {
     "name": "stdout",
     "output_type": "stream",
     "text": [
      "A forward pass through yolov3 took0.3931002616882324\n"
     ]
    }
   ],
   "source": [
    "blob = cv2.dnn.blobFromImage(img_conv, 1/255.0,(416,416), crop = False , swapRB = False)\n",
    "net.setInput(blob)\n",
    "\n",
    "#calc runtime algo\n",
    "start_t = time.time()\n",
    "layers_output = net.forward(layers_names)\n",
    "print(\"A forward pass through yolov3 took{}\".format(time.time() - start_t))"
   ]
  },
  {
   "cell_type": "code",
   "execution_count": 9,
   "id": "87e646fd",
   "metadata": {},
   "outputs": [
    {
     "data": {
      "text/plain": [
       "(array([[0.03848504, 0.02541414, 0.30860507, ..., 0.        , 0.        ,\n",
       "         0.        ],\n",
       "        [0.05257598, 0.03527593, 0.23808707, ..., 0.        , 0.        ,\n",
       "         0.        ],\n",
       "        [0.05028636, 0.02552763, 0.96149814, ..., 0.        , 0.        ,\n",
       "         0.        ],\n",
       "        ...,\n",
       "        [0.9608487 , 0.9567224 , 0.41158092, ..., 0.        , 0.        ,\n",
       "         0.        ],\n",
       "        [0.9633822 , 0.96710503, 0.30799186, ..., 0.        , 0.        ,\n",
       "         0.        ],\n",
       "        [0.97044116, 0.9653013 , 0.8789532 , ..., 0.        , 0.        ,\n",
       "         0.        ]], dtype=float32),\n",
       " array([[0.02374543, 0.02191778, 0.0571093 , ..., 0.        , 0.        ,\n",
       "         0.        ],\n",
       "        [0.01446746, 0.01889658, 0.30156076, ..., 0.        , 0.        ,\n",
       "         0.        ],\n",
       "        [0.02579288, 0.01836222, 0.09026168, ..., 0.        , 0.        ,\n",
       "         0.        ],\n",
       "        ...,\n",
       "        [0.9734053 , 0.97970337, 0.04695531, ..., 0.        , 0.        ,\n",
       "         0.        ],\n",
       "        [0.9811268 , 0.9772283 , 0.33249426, ..., 0.        , 0.        ,\n",
       "         0.        ],\n",
       "        [0.9796642 , 0.9840035 , 0.07032787, ..., 0.        , 0.        ,\n",
       "         0.        ]], dtype=float32),\n",
       " array([[0.00806989, 0.00380181, 0.01790126, ..., 0.        , 0.        ,\n",
       "         0.        ],\n",
       "        [0.00877635, 0.01118779, 0.0156548 , ..., 0.        , 0.        ,\n",
       "         0.        ],\n",
       "        [0.01038972, 0.00549559, 0.23627602, ..., 0.        , 0.        ,\n",
       "         0.        ],\n",
       "        ...,\n",
       "        [0.99045306, 0.9911288 , 0.01608705, ..., 0.        , 0.        ,\n",
       "         0.        ],\n",
       "        [0.9897672 , 0.9875306 , 0.01924179, ..., 0.        , 0.        ,\n",
       "         0.        ],\n",
       "        [0.9876864 , 0.9912411 , 0.1629553 , ..., 0.        , 0.        ,\n",
       "         0.        ]], dtype=float32))"
      ]
     },
     "execution_count": 9,
     "metadata": {},
     "output_type": "execute_result"
    }
   ],
   "source": [
    "layers_output"
   ]
  },
  {
   "cell_type": "code",
   "execution_count": 10,
   "id": "fcfda2d7",
   "metadata": {},
   "outputs": [],
   "source": [
    "boxes = []\n",
    "confidences = []\n",
    "classIDs = []"
   ]
  },
  {
   "cell_type": "code",
   "execution_count": 11,
   "id": "851f3d9d",
   "metadata": {},
   "outputs": [],
   "source": [
    "  for output in layers_output:\n",
    "    for detection in output:\n",
    "        scores = detection[5:]\n",
    "        classID = np.argmax(scores)\n",
    "        confidence = scores[classID]\n",
    "        \n",
    "        if (confidence > 0.85):\n",
    "            box = detection[:4]*np.array([W ,H,W ,H])\n",
    "            bx , by , bw , bh = box.astype(\"int\")\n",
    "            \n",
    "            x = int(bx - (bw/2))\n",
    "            y = int(by - (bh/2))\n",
    "            \n",
    "            boxes.append([x , y , int(bw), int(bh)])\n",
    "            confidences.append(float(confidence))\n",
    "            classIDs.append(classID)\n",
    "        "
   ]
  },
  {
   "cell_type": "code",
   "execution_count": 12,
   "id": "6eaff3da",
   "metadata": {},
   "outputs": [],
   "source": [
    "idxs = cv2.dnn.NMSBoxes(boxes , confidences , 0.8 , 0.8)"
   ]
  },
  {
   "cell_type": "markdown",
   "id": "4d7acadf",
   "metadata": {},
   "source": [
    "Reload Labels file\n"
   ]
  },
  {
   "cell_type": "code",
   "execution_count": 13,
   "id": "46f2152a",
   "metadata": {},
   "outputs": [],
   "source": [
    "labels_path = os.path.join(\"D:/2nd term/Digital image processing/Project\",\"coco.names\")\n",
    "labels = open(labels_path).read().strip().split(\"\\n\")"
   ]
  },
  {
   "cell_type": "code",
   "execution_count": 14,
   "id": "090de4d0",
   "metadata": {},
   "outputs": [
    {
     "data": {
      "text/plain": [
       "['person',\n",
       " 'bicycle',\n",
       " 'car',\n",
       " 'motorbike',\n",
       " 'aeroplane',\n",
       " 'bus',\n",
       " 'train',\n",
       " 'truck',\n",
       " 'boat',\n",
       " 'traffic light',\n",
       " 'fire hydrant',\n",
       " 'stop sign',\n",
       " 'parking meter',\n",
       " 'bench',\n",
       " 'bird',\n",
       " 'cat',\n",
       " 'dog',\n",
       " 'horse',\n",
       " 'sheep',\n",
       " 'cow',\n",
       " 'elephant',\n",
       " 'bear',\n",
       " 'zebra',\n",
       " 'giraffe',\n",
       " 'backpack',\n",
       " 'umbrella',\n",
       " 'handbag',\n",
       " 'tie',\n",
       " 'suitcase',\n",
       " 'frisbee',\n",
       " 'skis',\n",
       " 'snowboard',\n",
       " 'sports ball',\n",
       " 'kite',\n",
       " 'baseball bat',\n",
       " 'baseball glove',\n",
       " 'skateboard',\n",
       " 'surfboard',\n",
       " 'tennis racket',\n",
       " 'bottle',\n",
       " 'wine glass',\n",
       " 'cup',\n",
       " 'fork',\n",
       " 'knife',\n",
       " 'spoon',\n",
       " 'bowl',\n",
       " 'banana',\n",
       " 'apple',\n",
       " 'sandwich',\n",
       " 'orange',\n",
       " 'broccoli',\n",
       " 'carrot',\n",
       " 'hot dog',\n",
       " 'pizza',\n",
       " 'donut',\n",
       " 'cake',\n",
       " 'chair',\n",
       " 'sofa',\n",
       " 'pottedplant',\n",
       " 'bed',\n",
       " 'diningtable',\n",
       " 'toilet',\n",
       " 'tvmonitor',\n",
       " 'laptop',\n",
       " 'mouse',\n",
       " 'remote',\n",
       " 'keyboard',\n",
       " 'cell phone',\n",
       " 'microwave',\n",
       " 'oven',\n",
       " 'toaster',\n",
       " 'sink',\n",
       " 'refrigerator',\n",
       " 'book',\n",
       " 'clock',\n",
       " 'vase',\n",
       " 'scissors',\n",
       " 'teddy bear',\n",
       " 'hair drier',\n",
       " 'toothbrush']"
      ]
     },
     "execution_count": 14,
     "metadata": {},
     "output_type": "execute_result"
    }
   ],
   "source": [
    "labels"
   ]
  },
  {
   "cell_type": "markdown",
   "id": "86d9d083",
   "metadata": {},
   "source": [
    "Plot the bounding Boxes in the image"
   ]
  },
  {
   "cell_type": "code",
   "execution_count": 15,
   "id": "940ab1fa",
   "metadata": {},
   "outputs": [],
   "source": [
    "for i in idxs.flatten():\n",
    "    (x , y) = [boxes[i][0] , boxes[i][1]]\n",
    "    (w , h) = [boxes[i][2] , boxes[i][3]]\n",
    "    \n",
    "    cv2.rectangle(img_conv, (x,y), (x + w ,y + h), (0 , 255 , 255, 2))\n",
    "    cv2.putText(img, \"{}: {}\".format(labels[classIDs[i]], confidences[i]) ,\n",
    "        (x, y-5), cv2.FONT_HERSHEY_SIMPLEX,  0.5 , (0 , 0 , 255) , 2 )"
   ]
  },
  {
   "cell_type": "markdown",
   "id": "b574659e",
   "metadata": {},
   "source": [
    "Plotting resulting image"
   ]
  },
  {
   "cell_type": "code",
   "execution_count": 16,
   "id": "80ac88d9",
   "metadata": {},
   "outputs": [
    {
     "data": {
      "text/plain": [
       "-1"
      ]
     },
     "execution_count": 16,
     "metadata": {},
     "output_type": "execute_result"
    }
   ],
   "source": [
    "cv2.imshow(\"image\", cv2.cvtColor(img_conv, cv2.COLOR_RGB2BGR))\n",
    "    \n",
    "cv2.waitKey(0)"
   ]
  },
  {
   "cell_type": "code",
   "execution_count": null,
   "id": "9079783b",
   "metadata": {},
   "outputs": [],
   "source": []
  }
 ],
 "metadata": {
  "kernelspec": {
   "display_name": "Python 3 (ipykernel)",
   "language": "python",
   "name": "python3"
  },
  "language_info": {
   "codemirror_mode": {
    "name": "ipython",
    "version": 3
   },
   "file_extension": ".py",
   "mimetype": "text/x-python",
   "name": "python",
   "nbconvert_exporter": "python",
   "pygments_lexer": "ipython3",
   "version": "3.9.7"
  }
 },
 "nbformat": 4,
 "nbformat_minor": 5
}
